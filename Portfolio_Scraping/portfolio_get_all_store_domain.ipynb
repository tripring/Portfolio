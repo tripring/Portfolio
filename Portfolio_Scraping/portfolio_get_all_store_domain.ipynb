{
 "cells": [
  {
   "cell_type": "code",
   "execution_count": 13,
   "id": "a2241e3c",
   "metadata": {},
   "outputs": [],
   "source": [
    "import time\n",
    "from selenium import webdriver\n",
    "from selenium.webdriver.chrome.options import Options\n",
    "from bs4 import BeautifulSoup\n",
    "import csv\n",
    "import chromedriver_binary\n",
    "import urllib"
   ]
  },
  {
   "cell_type": "code",
   "execution_count": 25,
   "id": "d12b135f",
   "metadata": {},
   "outputs": [],
   "source": [
    "def get_driver():\n",
    "    options = Options()\n",
    "    options.add_argument('--headless')\n",
    "    options.add_argument(\"--no-sandbox\")\n",
    "    return webdriver.Chrome( options = options )\n",
    "\n",
    "def get_page_bs( driver, url ):\n",
    "    driver.get( url )\n",
    "    time.sleep( 10 ) # 10秒間待機\n",
    "    return BeautifulSoup( driver.page_source, features='lxml' )\n",
    "        \n",
    "def write_csv( file_path, data ):\n",
    "    with open( file_path, 'a' ) as f:\n",
    "        print( ','.join( data ), file=f )\n",
    "\n",
    "## データ取得をする ページURL / データを保存するファイルパス は適宜変更する ##\n",
    "target_url = \"https://paypaymall.yahoo.co.jp/stores/\"\n",
    "output = \"paypaymall_all_stores.csv\"\n",
    "\n",
    "#store_d = \"aaa83900\"\n",
    "#d = get_driver()\n",
    "#bs_info = get_page_bs( d, \"https://paypaymall.yahoo.co.jp/store/\"+store_d+\"/info/\" )\n",
    "#d.quit()\n",
    "#print( bs_info )\n",
    "\n",
    "d = get_driver()\n",
    "bs = get_page_bs( d, target_url )\n",
    "items = bs.find_all( \"li\", class_ = \"BrandList_item\" )\n",
    "write_csv( output, (\"ストア名\",\"ストアURL\",\"ストアドメイン\") )\n",
    "for item in items:\n",
    "    store_name = item.text.replace( \"\\n\", \"\" )\n",
    "    store_url = item.find( 'a' ).get('href')\n",
    "    store_domain = store_url[ 37 : store_url.find(\"/top/\") ]\n",
    "    write_csv( output, ( store_name, store_url, store_domain ) )\n",
    "    # print( store_name, store_url, store_domain )"
   ]
  },
  {
   "cell_type": "code",
   "execution_count": null,
   "id": "9eb14946",
   "metadata": {},
   "outputs": [],
   "source": []
  }
 ],
 "metadata": {
  "kernelspec": {
   "display_name": "Python 3 (ipykernel)",
   "language": "python",
   "name": "python3"
  },
  "language_info": {
   "codemirror_mode": {
    "name": "ipython",
    "version": 3
   },
   "file_extension": ".py",
   "mimetype": "text/x-python",
   "name": "python",
   "nbconvert_exporter": "python",
   "pygments_lexer": "ipython3",
   "version": "3.9.7"
  }
 },
 "nbformat": 4,
 "nbformat_minor": 5
}
